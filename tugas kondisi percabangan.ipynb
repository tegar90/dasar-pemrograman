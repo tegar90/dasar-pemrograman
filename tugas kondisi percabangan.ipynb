{
 "cells": [
  {
   "cell_type": "code",
   "execution_count": 1,
   "id": "827da434",
   "metadata": {},
   "outputs": [
    {
     "name": "stdout",
     "output_type": "stream",
     "text": [
      "Masukkan umur anak: 23\n",
      "Masukkan tinggi anak (dalam cm): 122\n",
      "Tarif yang harus dibayarkan: 80000\n"
     ]
    }
   ],
   "source": [
    "def hitung_tarif_umur_tinggi(umur, tinggi):\n",
    "    tarif = 0\n",
    "    \n",
    "    if umur < 2:\n",
    "        return \"Dilarang masuk\"\n",
    "    elif umur < 4:\n",
    "        tarif = 30000\n",
    "        if tinggi > 70:\n",
    "            tarif += 10000\n",
    "    elif umur < 7:\n",
    "        tarif = 40000\n",
    "        if tinggi > 120:\n",
    "            tarif += 15000\n",
    "    elif umur < 10:\n",
    "        tarif = 50000\n",
    "        if tinggi > 150:\n",
    "            tarif += 20000\n",
    "    else:\n",
    "        tarif = 80000\n",
    "    \n",
    "    return tarif\n",
    "\n",
    "def main():\n",
    "    while True:\n",
    "        try:\n",
    "            umur = int(input(\"Masukkan umur anak: \"))\n",
    "            tinggi = int(input(\"Masukkan tinggi anak (dalam cm): \"))\n",
    "            break\n",
    "        except ValueError:\n",
    "            print(\"Masukkan harus berupa bilangan bulat.\")\n",
    "    \n",
    "    tarif = hitung_tarif_umur_tinggi(umur, tinggi)\n",
    "    \n",
    "    if isinstance(tarif, str):\n",
    "        print(tarif)\n",
    "    else:\n",
    "        print(\"Tarif yang harus dibayarkan:\", tarif)\n",
    "\n",
    "if __name__ == \"__main__\":\n",
    "    main()\n"
   ]
  },
  {
   "cell_type": "code",
   "execution_count": null,
   "id": "0c63ad44",
   "metadata": {},
   "outputs": [],
   "source": []
  }
 ],
 "metadata": {
  "kernelspec": {
   "display_name": "Python 3 (ipykernel)",
   "language": "python",
   "name": "python3"
  },
  "language_info": {
   "codemirror_mode": {
    "name": "ipython",
    "version": 3
   },
   "file_extension": ".py",
   "mimetype": "text/x-python",
   "name": "python",
   "nbconvert_exporter": "python",
   "pygments_lexer": "ipython3",
   "version": "3.11.7"
  }
 },
 "nbformat": 4,
 "nbformat_minor": 5
}
